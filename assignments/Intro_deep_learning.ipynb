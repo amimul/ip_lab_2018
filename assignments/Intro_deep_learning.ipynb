{
 "cells": [
  {
   "cell_type": "markdown",
   "metadata": {},
   "source": [
    "# Chapter 4: Deep Learning (Part 2)- Intro to Deep Neural Networks\n",
    "# Simple Linear Model and Multi-layer Perceptron (MLP)\n",
    "\n",
    "by Behzad Bozorgtabar"
   ]
  },
  {
   "cell_type": "markdown",
   "metadata": {},
   "source": [
    "## Introduction\n",
    "\n",
    "In this section, we will learn the basic workflow of using TensorFlow with a simple linear model and multilayer perceptron model, respectively. In the previous part, we got familiar with the basic logistic classifier using (LogisticRegression or LogisticRegressionCv). You won't suffer from using the logistic classifier. But, you can obviously see the performance efficiency while using the deep neural network classifier.\n",
    "\n",
    "In the last couple of years, deep learning has produced state-of-the-art results in many computer vision tasks. In this section, a practical overview of deep Learning's basic concepts has been provided and we are going to work with a simple linear and multi-layer perceptron (MLP) models.\n",
    "\n",
    "At its core, deep learning is a class of neural network models. That is a model with an input layer, an output layer, and an arbitrary number of hidden layers. These layers are made up of neurons or neural units. They are called neurons because they share some similarities with the behaviour of the neurons present in the human brain. For our purposes, we can think of a neuron as a nonlinear function of the weighted sum of its inputs. Since the neuron is really the most basic part of any deep learning model it is a good place to start. \n",
    "\n",
    "As the starting point, we continue to work the notMNIST dataset. After loading the dataset, we define and optimize a simple mathematical model in TensorFlow. The results are then plotted and discussed. First, we import tensorflow with other needed packages:"
   ]
  },
  {
   "cell_type": "markdown",
   "metadata": {},
   "source": [
    "## Imports"
   ]
  },
  {
   "cell_type": "code",
   "execution_count": null,
   "metadata": {},
   "outputs": [],
   "source": [
    "%matplotlib inline\n",
    "import matplotlib.pyplot as plt\n",
    "import tensorflow as tf\n",
    "import numpy as np\n",
    "from sklearn.metrics import confusion_matrix"
   ]
  },
  {
   "cell_type": "markdown",
   "metadata": {},
   "source": [
    "You can figure out your tensorflow version by running the following command:"
   ]
  },
  {
   "cell_type": "code",
   "execution_count": null,
   "metadata": {},
   "outputs": [],
   "source": [
    "tf.__version__"
   ]
  },
  {
   "cell_type": "markdown",
   "metadata": {},
   "source": [
    "## Load Data"
   ]
  },
  {
   "cell_type": "markdown",
   "metadata": {},
   "source": [
    "Just recap from the previous part, we need to load the the notMNIST dataset with the labels (pickle file) that we saved before. "
   ]
  },
  {
   "cell_type": "code",
   "execution_count": null,
   "metadata": {},
   "outputs": [],
   "source": [
    "import pickle as pickle\n",
    "\n",
    "# Data path\n",
    "PICKLE_FILE = '../data/notMNIST.pickle'\n",
    "# Load the data to the RAM\n",
    "with open(PICKLE_FILE, 'rb') as f:\n",
    "    SAVE_FILE = pickle.load(f)\n",
    "\n",
    "    TRAIN_DATASET = SAVE_FILE['train_dataset']\n",
    "    TRAIN_LABELS = SAVE_FILE['train_labels']\n",
    "\n",
    "    VALID_DATASET = SAVE_FILE['valid_dataset']\n",
    "    VALID_LABELS = SAVE_FILE['valid_labels']\n",
    "\n",
    "    TEST_DATASET = SAVE_FILE['test_dataset']\n",
    "    TEST_LABELS = SAVE_FILE['test_labels']\n",
    "\n",
    "    # Free some memory\n",
    "    del SAVE_FILE"
   ]
  },
  {
   "cell_type": "markdown",
   "metadata": {},
   "source": [
    "The notMNIST dataset has now been loaded and consists of images and associated labels (i.e. classifications of the images). The dataset is split into 3 mutually exclusive sub-sets (200000 training images, 10000 validation and 10000 test images, respectively). You can display the images in each sub-set. They should match the labels."
   ]
  },
  {
   "cell_type": "code",
   "execution_count": null,
   "metadata": {},
   "outputs": [],
   "source": [
    "# Display the openend files\n",
    "print(\"Training Set \", TRAIN_DATASET.shape, TRAIN_LABELS.shape)\n",
    "print(\"Validation Set\", VALID_DATASET.shape, VALID_LABELS.shape)\n",
    "print(\"Test Set\", TEST_DATASET.shape, TEST_LABELS.shape)"
   ]
  },
  {
   "cell_type": "markdown",
   "metadata": {},
   "source": [
    "### Helper-function for plotting images"
   ]
  },
  {
   "cell_type": "markdown",
   "metadata": {},
   "source": [
    "Function used to plot 9 images in a 3x3 grid, and writing the true and predicted classes below each image."
   ]
  },
  {
   "cell_type": "code",
   "execution_count": null,
   "metadata": {},
   "outputs": [],
   "source": [
    "IMAGE_SIZE = 28\n",
    "IMAGE_SHAPE=(IMAGE_SIZE,IMAGE_SIZE)\n",
    "\n",
    "def plot_images(images, cls_true, cls_pred=None):\n",
    "    assert len(images) == len(cls_true) == 9\n",
    "    \n",
    "    # Create figure with 3x3 sub-plots.\n",
    "    fig, axes = plt.subplots(3, 3)\n",
    "    fig.subplots_adjust(hspace=0.3, wspace=0.3)\n",
    "\n",
    "    for i, ax in enumerate(axes.flat):\n",
    "        # Plot image.\n",
    "        ax.imshow(images[i].reshape(IMAGE_SHAPE), cmap='binary')\n",
    "\n",
    "        # Show true and predicted classes.\n",
    "        if cls_pred is None:\n",
    "            xlabel = \"True: {0}\".format(cls_true[i])\n",
    "        else:\n",
    "            xlabel = \"True: {0}, Pred: {1}\".format(cls_true[i], cls_pred[i])\n",
    "\n",
    "        ax.set_xlabel(xlabel)\n",
    "        \n",
    "        # Remove ticks from the plot.\n",
    "        ax.set_xticks([])\n",
    "        ax.set_yticks([])\n",
    "        \n",
    "    # Ensure the plot is shown correctly with multiple plots\n",
    "    # in a single Notebook cell.\n",
    "    plt.show()"
   ]
  },
  {
   "cell_type": "markdown",
   "metadata": {},
   "source": [
    "### Plot a few images to see if data is correct"
   ]
  },
  {
   "cell_type": "code",
   "execution_count": null,
   "metadata": {},
   "outputs": [],
   "source": [
    "# Get the first images from the test-set.\n",
    "images = TEST_DATASET[0:9]\n",
    "\n",
    "# Get the true classes for those images.\n",
    "cls_true = TEST_LABELS[0:9]\n",
    "\n",
    "# Plot the images and labels using our helper-function above.\n",
    "plot_images(images=images, cls_true=cls_true)"
   ]
  },
  {
   "cell_type": "markdown",
   "metadata": {},
   "source": [
    "### One-Hot Encoding and Image Flattened Mode"
   ]
  },
  {
   "cell_type": "markdown",
   "metadata": {},
   "source": [
    "Our labels contain a list of predictions for our examples, e.g. [1, 9, ...]. In tensorflow, the label has to be converted to the encoding format as so-called One-Hot encoding. This means the labels have been converted from a single number to a vector whose length equals the number of possible classes. All elements of the vector are zero except for the $i$'th element which is one and means the class is $i$.\n",
    "\n",
    "In addition, because we are going to use linear layers and multiplications of the neural network, you always want your data to be a (1 or) 2-dimensional matrix, where each row is the vector representing your data. Therefore, it would be more complicated and less efficient without reshaping images first. Here, we need to flatten images before passing them to our model. As an example, please print out the One-Hot encoded labels for the first 5 images in the test set.\n"
   ]
  },
  {
   "cell_type": "code",
   "execution_count": null,
   "metadata": {},
   "outputs": [],
   "source": [
    "def reformat(dataset, labels):\n",
    "    \"\"\"\n",
    "        Reformat the data to the one-hot and flattened mode\n",
    "    \"\"\"\n",
    "    n_dataset = dataset.reshape((-1, IMAGE_SIZE * IMAGE_SIZE)).astype(np.float32)\n",
    "\n",
    "    # Convert to the one hot format\n",
    "    n_labels = (np.arange(NUM_LABELS) == labels[:, None]).astype(np.float32)\n",
    "\n",
    "    return n_dataset, n_labels\n",
    "\n",
    "\n",
    "NUM_LABELS = 10\n",
    "\n",
    "TRAIN_DATASET, TRAIN_LABELS = reformat(TRAIN_DATASET, TRAIN_LABELS)\n",
    "VALID_DATASET, VALID_LABELS = reformat(VALID_DATASET, VALID_LABELS)\n",
    "TEST_DATASET, TEST_LABELS = reformat(TEST_DATASET, TEST_LABELS)\n",
    "\n",
    "# Display the files\n",
    "print(\"Training Set \", TRAIN_DATASET.shape, TRAIN_LABELS.shape)\n",
    "print(\"Validation Set\", VALID_DATASET.shape, VALID_LABELS.shape)\n",
    "print(\"Test Set\", TEST_DATASET.shape, TEST_LABELS.shape)"
   ]
  },
  {
   "cell_type": "code",
   "execution_count": null,
   "metadata": {},
   "outputs": [],
   "source": [
    "TEST_LABELS[0:5, :]"
   ]
  },
  {
   "cell_type": "markdown",
   "metadata": {},
   "source": [
    "## TensorFlow Graph\n",
    "\n",
    "The entire purpose of TensorFlow is to have a so-called computational graph that can be executed much more efficiently than if the same calculations were to be performed directly in Python. TensorFlow can be more efficient than NumPy because TensorFlow knows the entire computation graph that must be executed, while NumPy only knows the computation of a single mathematical operation at a time.\n",
    "\n",
    "TensorFlow can also automatically calculate the gradients that are needed to optimize the variables of the graph to make the model perform better. This is because the graph is a combination of simple mathematical expressions so the gradient of the entire graph can be calculated using the chain rule for derivatives.\n",
    "\n",
    "\n",
    "A TensorFlow graph consists of the following parts which will be detailed below:\n",
    "\n",
    "* Placeholder variables used to change the input to the graph.\n",
    "* Model variables that are going to be optimised to make the model perform better.\n",
    "* The model which is essentially just a mathematical function that calculates some output given the input in the placeholder variables and the model variables.\n",
    "* A cost measure that can be used to guide the optimization of the variables.\n",
    "* An optimization method which updates the variables of the model.\n",
    "\n",
    "In addition, the TensorFlow graph may also contain various debugging statements, e.g. for logging data to be displayed using TensorBoard, which is not covered here."
   ]
  },
  {
   "cell_type": "markdown",
   "metadata": {},
   "source": [
    "### Default graph"
   ]
  },
  {
   "cell_type": "markdown",
   "metadata": {},
   "source": [
    "As the starting point, we create a new computational graph via the `tf.Graph` constructor. To add operations to this graph, we must register it as the default graph. The way the TensorFlow API is designed, library routines that create new operation nodes always attach these to the current default graph. We register our graph as the default by using it as a Python context manager in a `with-as` statement.\n"
   ]
  },
  {
   "cell_type": "markdown",
   "metadata": {},
   "source": [
    "### Placeholder variables"
   ]
  },
  {
   "cell_type": "markdown",
   "metadata": {},
   "source": [
    "Placeholder variables serve as the input to the graph that we may change each time we execute the graph. We call this feeding the placeholder variables and it is demonstrated further below.\n",
    "\n",
    "First, we define the placeholder variable for the input images including train and validation set. This allows us to change the images that are input to the TensorFlow graph. This is a so-called tensor, which just means that it is a multi-dimensional vector or matrix. The data-type is set to `float32` and the shape is set to `[None, IMAGE_SIZE_FLAT]`, where `None` means that the tensor may hold an arbitrary number of images with each image being reshaped into a vector of length `IMAGE_SIZE_FLAT` which is equal to IMAGE_SIZE * IMAGE_SIZE. In addition, we create a constant tensor for the validation and test set since they are fixed and will be evaluated later.   "
   ]
  },
  {
   "cell_type": "markdown",
   "metadata": {},
   "source": [
    "Next we have the placeholder variable for the true labels associated with the images that were input in the placeholder variable `TF_TRAIN_DATASET`. The shape of this placeholder variable is `[None, NUM_LABELS]` which means it may hold an arbitrary number of labels and each label is a vector of length `NUM_LABELS` which is 10 in this case."
   ]
  },
  {
   "cell_type": "markdown",
   "metadata": {},
   "source": [
    "### Variables to be optimized"
   ]
  },
  {
   "cell_type": "markdown",
   "metadata": {},
   "source": [
    "Apart from the placeholder variables that were defined above and which serve as feeding input data into the model, there are also some model variables that must be changed by TensorFlow to make the model perform better on the training data.\n",
    "\n",
    "In fact, the model variables are the network hidden layer parameters including layer's weights and biases. The first variable that must be optimized are `WEIGHTS` and defined here as a TensorFlow variable that must be initialized and whose shape is `[IMAGE_SIZE_FLAT, NUM_LABELS]` for the simple linear model, so it is a 2-dimensional tensor (or matrix) with `IMAGE_SIZE_FLAT` rows and `NUM_LABELS` columns. There are various ways to initialize the weights like initialization with zeros `tf.zeros`, `tf.truncated_normal` and `tf.random_normal`, which output random values from a normal distribution and you can specify the mean and The standard deviation (`stddev`) of the normal distribution."
   ]
  },
  {
   "cell_type": "markdown",
   "metadata": {},
   "source": [
    "The second variable that must be optimized is called `BIASES` and is defined as a 1-dimensional tensor (or vector) of length `NUM_LABELS`.\n",
    "\n",
    "Last but not least, you should name every important operation in your code. In complex models, it is good practice to use `scopes`. The important point is that if you want to later use some operation, you have to either name it or put it into a collection."
   ]
  },
  {
   "cell_type": "markdown",
   "metadata": {},
   "source": [
    "### Model"
   ]
  },
  {
   "cell_type": "markdown",
   "metadata": {},
   "source": [
    "This simple mathematical model multiplies the training images in the placeholder variable `TF_TRAIN_DATASET` with the `WEIGHTS` and then adds the ` BIASES`.\n",
    "\n",
    "The result is a matrix of shape `[NUM_IMAGES, NUM_LABELS]` because `TF_TRAIN_DATASET` has shape `[NUM_IMAGES, IMAGE_SIZE_FLAT]` and `WEIGHTS` has shape `[IMAGE_SIZE_FLAT, NUM_LABELS]`, so the multiplication of those two matrices is a matrix with shape `[NUM_IMAGES, NUM_LABELS]` and then the `BIASES` vector is added to each row of that matrix.\n"
   ]
  },
  {
   "cell_type": "markdown",
   "metadata": {},
   "source": [
    "However, these estimates are a bit rough and difficult to interpret because the numbers may be very small or large, so we want to normalize them so that each row of the `LOGITS` matrices sums to one (see below code), and each element is limited between zero and one. This is calculated using the so-called softmax function `tf.nn.softmax`."
   ]
  },
  {
   "cell_type": "markdown",
   "metadata": {},
   "source": [
    "### Cost-function to be optimized"
   ]
  },
  {
   "cell_type": "markdown",
   "metadata": {},
   "source": [
    "To make the model better at classifying the input images, we must somehow change the variables for `WEIGHTS` and `BIASES`. To do this, we first need to know how well the model currently performs by comparing the predicted output of the model to the desired output.\n",
    "\n",
    "The cross-entropy is a performance measure used in classification. The cross-entropy is a continuous function that is always positive and if the predicted output of the model exactly matches the desired output then the cross-entropy equals zero. The goal of optimization is, therefore, to minimise the cross-entropy, so it gets as close to zero as possible by changing the `WEIGHTS` and `BIASES` of the model.\n",
    "\n",
    "TensorFlow has a built-in function for calculating the cross-entropy using `tf.nn.softmax_cross_entropy_with_logits`. Note that it uses the values of the `LOGITS` in train, validation and test sets because it also calculates the softmax internally. In order to use the cross-entropy to guide the optimization of the model's variables we need a single scalar value, so we simply take the average of the cross-entropy using (`tf.reduce_mean`) for all the image classifications."
   ]
  },
  {
   "cell_type": "markdown",
   "metadata": {},
   "source": [
    "### Optimization method"
   ]
  },
  {
   "cell_type": "markdown",
   "metadata": {},
   "source": [
    "Now that we have a cost measure that must be minimized, we can then create an optimizer. In this case it is the basic form of Gradient Descent where the step-size is set to 0.5.\n",
    "\n",
    "Note that optimization is not performed at this point. In fact, nothing is calculated at all, we just add the optimizer-object to the TensorFlow graph for later execution."
   ]
  },
  {
   "cell_type": "code",
   "execution_count": null,
   "metadata": {},
   "outputs": [],
   "source": [
    "IMAGE_SIZE_FLAT=IMAGE_SIZE * IMAGE_SIZE\n",
    "\n",
    "# Create a new graph\n",
    "GRAPH = tf.Graph()\n",
    "\n",
    "# Register the graph as the default one to add nodes\n",
    "with GRAPH.as_default():\n",
    "    \n",
    "    # Define placeholders\n",
    "    TF_TRAIN_DATASET = tf.placeholder(tf.float32, shape=(None, IMAGE_SIZE * IMAGE_SIZE))\n",
    "    TF_TRAIN_LABELS = tf.placeholder(tf.float32, shape=(None, NUM_LABELS))\n",
    "    TF_VALID_DATASET = tf.constant(VALID_DATASET)\n",
    "    TF_TEST_DATASET = tf.constant(TEST_DATASET)\n",
    "    \n",
    "    with tf.name_scope(\"Linear_model\"):\n",
    "        \n",
    "        \"\"\"\n",
    "           Initialize weights and biases\n",
    "        \"\"\"\n",
    "        \n",
    "        WEIGHTS = tf.Variable(tf.random_normal(shape=[IMAGE_SIZE_FLAT, NUM_LABELS], stddev=0.1))\n",
    "        BIASES = tf.Variable(tf.zeros([NUM_LABELS]))\n",
    "    \n",
    "        \"\"\"\n",
    "           Compute the logits WX + b\n",
    "        \"\"\" \n",
    "        TRAIN_LOGITS = tf.matmul(TF_TRAIN_DATASET, WEIGHTS) + BIASES\n",
    "        VALID_LOGTIS = tf.matmul(TF_VALID_DATASET, WEIGHTS) + BIASES\n",
    "        TEST_LOGITS = tf.matmul(TF_TEST_DATASET, WEIGHTS) + BIASES\n",
    "    \n",
    "        \"\"\"\n",
    "           Softmax function\n",
    "        \"\"\"   \n",
    "        TRAIN_PREDICTION = tf.nn.softmax(TRAIN_LOGITS)\n",
    "        VALID_PREDICTION = tf.nn.softmax(VALID_LOGTIS)\n",
    "        TEST_PREDICTION = tf.nn.softmax(TEST_LOGITS)\n",
    "    \n",
    "        \"\"\"\n",
    "           Cost-function\n",
    "        \"\"\"\n",
    "        CROSS_ENTROPY= tf.nn.softmax_cross_entropy_with_logits(logits=TRAIN_LOGITS, labels=TF_TRAIN_LABELS)\n",
    "        COST= tf.reduce_mean(CROSS_ENTROPY)\n",
    "        # Optimizer\n",
    "        OPTIMIZER = tf.train.GradientDescentOptimizer(learning_rate=0.5).minimize(COST)"
   ]
  },
  {
   "cell_type": "markdown",
   "metadata": {},
   "source": [
    "### Helper-functions to show performance"
   ]
  },
  {
   "cell_type": "markdown",
   "metadata": {},
   "source": [
    "Now, we need a performance measure to display the progress to the user. This can be done via defining a function to compute accuracy or confusion matrix to see whether the predicted class equals the true class of each image."
   ]
  },
  {
   "cell_type": "code",
   "execution_count": null,
   "metadata": {},
   "outputs": [],
   "source": [
    "def accuracy(predictions, labels):\n",
    "    \"\"\"\n",
    "        Divides the number of true predictions to the number of total predictions\n",
    "    \"\"\"\n",
    "    return (100.0 * np.sum(np.argmax(predictions, 1) == np.argmax(labels, 1)) / predictions.shape[0])\n",
    "\n",
    "def print_confusion_matrix(predictions, labels):\n",
    "\n",
    "    # Convert the One-Hot encoded vectors to a single number by taking the index of the highest element\n",
    "    labels=np.array([label.argmax() for label in labels])\n",
    "    predictions = np.array([prediction.argmax() for prediction in predictions])\n",
    "\n",
    "    # Get the confusion matrix using sklearn.\n",
    "    cm = confusion_matrix(y_true=labels,\n",
    "                          y_pred=predictions)\n",
    "\n",
    "    # Print the confusion matrix as text.\n",
    "    print(cm)\n",
    "\n",
    "    # Plot the confusion matrix as an image.\n",
    "    plt.imshow(cm, interpolation='nearest', cmap=plt.cm.Blues)\n",
    "\n",
    "    # Make various adjustments to the plot.\n",
    "    plt.tight_layout()\n",
    "    plt.colorbar()\n",
    "    tick_marks = np.arange(NUM_LABELS)\n",
    "    plt.xticks(tick_marks, range(NUM_LABELS))\n",
    "    plt.yticks(tick_marks, range(NUM_LABELS))\n",
    "    plt.xlabel('Predicted')\n",
    "    plt.ylabel('True')\n",
    "\n",
    "    # Ensure the plot is shown correctly with multiple plots\n",
    "    plt.show()"
   ]
  },
  {
   "cell_type": "markdown",
   "metadata": {},
   "source": [
    "## TensorFlow Run"
   ]
  },
  {
   "cell_type": "markdown",
   "metadata": {},
   "source": [
    "### Create TensorFlow session\n",
    "\n",
    "Once the TensorFlow graph has been created, we have to create a TensorFlow session which is used to execute the graph and train our model. For this, we enter a session environment using a `tf.Session` as a context manager. We pass our graph  object to its constructor, so that it knows which graph to manage. To then execute nodes, we have several options. The   most general way is to call Session.run() and pass a list of tensors we wish to compute. Alternatively, we may call `eval()` on  tensors and `run()` on  operations directly.\n",
    "\n",
    "Before evaluating any other node, we must first ensure that the variables in our graph are initialized. Theoretically,  we could `run` the `Variable.initializer` operation for each variable. However, one most often just uses the\n",
    "`tf.initialize_all_variables()` utility operation provided by TensorFlow, which in turn executes the `initializer` \n",
    "operation for each `Variable` in the graph. Then, we can perform a certain number of iterations of stochastic gradient  descent, fetching an example and label from the notMNIST dataset each time and feeding it to the run routine. "
   ]
  },
  {
   "cell_type": "markdown",
   "metadata": {},
   "source": [
    "One important point is that, there are 200,000 images in the training-set. It takes a long time to calculate the gradient of the model using all these images. We therefore use Stochastic Gradient Descent which only uses a small batch of images in each iteration of the optimizer."
   ]
  },
  {
   "cell_type": "code",
   "execution_count": null,
   "metadata": {},
   "outputs": [],
   "source": [
    "BATCH_SIZE = 100\n",
    "NUM_ITERATIONS = 5000"
   ]
  },
  {
   "cell_type": "code",
   "execution_count": null,
   "metadata": {},
   "outputs": [],
   "source": [
    "\n",
    "with tf.Session(graph=GRAPH) as session:\n",
    "    \"\"\"\n",
    "        Start the above variable initialization\n",
    "    \"\"\"\n",
    "    tf.initialize_all_variables().run()\n",
    "    print(\"Variables initialized\")\n",
    "\n",
    "    for step in range(NUM_ITERATIONS):\n",
    "        \"\"\"\n",
    "            Generate a random base and then generate a minibatch\n",
    "        \"\"\"\n",
    "        BASE = (step * BATCH_SIZE) % (TRAIN_LABELS.shape[0] - BATCH_SIZE)\n",
    "        BATCH_DATA = TRAIN_DATASET[BASE:(BASE + BATCH_SIZE), :]\n",
    "        BATCH_LABELS = TRAIN_LABELS[BASE:(BASE + BATCH_SIZE), :]\n",
    "        \"\"\"\n",
    "            Feed the current session with batch data\n",
    "        \"\"\"\n",
    "        FEED_DICT = {TF_TRAIN_DATASET: BATCH_DATA, TF_TRAIN_LABELS: BATCH_LABELS}\n",
    "        _, l, predictions = session.run([OPTIMIZER, COST, TRAIN_PREDICTION], feed_dict=FEED_DICT)\n",
    "\n",
    "        if(step % 500 == 0):\n",
    "            print(\"Minibatch loss at step \", step, \": \", l)\n",
    "            print(\"Minibatch accuracy: \", accuracy(predictions, BATCH_LABELS))\n",
    "            print(\"Validation accuracy: \", accuracy(VALID_PREDICTION.eval(), VALID_LABELS))\n",
    "            \n",
    "        if (step == NUM_ITERATIONS-1):\n",
    "            print(\"Test accuracy: \", accuracy(TEST_PREDICTION.eval(), TEST_LABELS))\n",
    "            print_confusion_matrix(TEST_PREDICTION.eval(), TEST_LABELS)"
   ]
  },
  {
   "cell_type": "markdown",
   "metadata": {},
   "source": [
    "## Multilayer Perceptron (MLP)"
   ]
  },
  {
   "cell_type": "markdown",
   "metadata": {},
   "source": [
    "The next architecture we are going to work with is multilayer perceptron (MLP). An MLP can be viewed as a logistic regression classifier where the input is first transformed using some non-linear transformations of the intermediate network layers. These intermediate layers are referred to as a `hidden layers`. Here, we are going to define TF graph for the MLP model with two hidden layers and one output layer. First, let’s draw the model the MLP represents:"
   ]
  },
  {
   "cell_type": "code",
   "execution_count": null,
   "metadata": {},
   "outputs": [],
   "source": [
    "from IPython.core.display import Image \n",
    "Image(filename='../data/multilayer-perceptron-drawing.png')"
   ]
  },
  {
   "cell_type": "markdown",
   "metadata": {},
   "source": [
    "### Problem 1"
   ]
  },
  {
   "cell_type": "markdown",
   "metadata": {},
   "source": [
    "In our example, the MLP model has two hidden layers with sizes of `HIDDEN_NODES_1=1024` and `HIDDEN_NODES_2=512`, respectively. In MLP, every element of a previous layer is connected to every element of the next layer. For example, the weights in the second hidden layer has `shape=[HIDDEN_NODES_1, HIDDEN_NODES_2]`. \n",
    "\n",
    "Now, lets define MLP graph with two hidden layers (in the following example, we only use train and test sets):"
   ]
  },
  {
   "cell_type": "code",
   "execution_count": null,
   "metadata": {},
   "outputs": [],
   "source": [
    "#Define the number of nodes for the hidden layers\n",
    "HIDDEN_NODES_1=1024\n",
    "HIDDEN_NODES_2=512\n",
    "\n",
    "MLP_GRAPH = tf.Graph()\n",
    "\n",
    "#Code Here. \n",
    "    "
   ]
  },
  {
   "cell_type": "markdown",
   "metadata": {},
   "source": [
    "### Helper-function to perform optimization iterations"
   ]
  },
  {
   "cell_type": "markdown",
   "metadata": {},
   "source": [
    "Here, we build a function for performing a number of optimization iterations so as to gradually improve the weights and biases of the MLP model. In each iteration, a new batch of data is selected from the training-set and then TensorFlow executes the optimizer using those training samples. The inputs of the function are the number of iterations `NUM_ITERATIONS` and number of used samples `NUM_SAMPLES` to train the model"
   ]
  },
  {
   "cell_type": "code",
   "execution_count": null,
   "metadata": {},
   "outputs": [],
   "source": [
    "def optimize(NUM_ITERATIONS, NUM_SAMPLES):\n",
    "    \n",
    "    with tf.Session(graph=MLP_GRAPH) as session:\n",
    "\n",
    "        \"\"\"\n",
    "            Start the above variable initialization\n",
    "        \"\"\"\n",
    "        tf.initialize_all_variables().run()\n",
    "        print(\"Variables initialized\")\n",
    "\n",
    "        for step in range(NUM_ITERATIONS):\n",
    "            \"\"\"\n",
    "                Select the desired samples\n",
    "            \"\"\"\n",
    "            TRAIN_DATASET_S = TRAIN_DATASET[:NUM_SAMPLES]\n",
    "            TRAIN_LABELS_S = TRAIN_LABELS[:NUM_SAMPLES]\n",
    "            \"\"\"\n",
    "                Generate a random base and then generate a minibatch\n",
    "            \"\"\"\n",
    "            \n",
    "            indices = np.random.choice(range(TRAIN_LABELS_S.shape[0]\n",
    "                                             ), BATCH_SIZE)\n",
    "            BATCH_DATA = TRAIN_DATASET_S[indices, :]\n",
    "            BATCH_LABELS = TRAIN_LABELS_S[indices, :]\n",
    "\n",
    "            \"\"\"\n",
    "                Feed the current session with batch data\n",
    "            \"\"\"\n",
    "            FEED_DICT = {TF_TRAIN_DATASET: BATCH_DATA, TF_TRAIN_LABELS: BATCH_LABELS}\n",
    "            _, l, predictions = session.run([OPTIMIZER, LOSS, TRAIN_PREDICTION], feed_dict=FEED_DICT)\n",
    "\n",
    "            if (step == NUM_ITERATIONS - 1):\n",
    "                acc=accuracy(TEST_PREDICTION.eval(), TEST_LABELS)\n",
    "                print(\"Test accuracy: \", accuracy(TEST_PREDICTION.eval(), TEST_LABELS))\n",
    "\n",
    "    return acc\n",
    "\n",
    "optimize(NUM_ITERATIONS=100, NUM_SAMPLES=5000)"
   ]
  },
  {
   "cell_type": "markdown",
   "metadata": {},
   "source": [
    "## Comparison of hand-craft feature based SVM and MLP \n",
    "\n",
    "Regarding the neural networks with several layers with large number of neurons, an increase in the layers/neurons will increase the capacity of the network (not accuracy). \n",
    "\n",
    "To generalize these large networks a significantly large number of training samples are required (atleast 10 times the number of parameters in a network) otherwise it will simply over fit even with regularization constraints. However, for the problem with quite small samples, SVM (kernel), Logistic Regression, etc. may gives better performance. \n",
    "\n",
    "On the other hand, when there are large number of training samples, the deep learning based model can reach much better performance. Here, we aim to train two models including SVM and MLP using varying number of training samples. For a fair comparision, we only use image raw features, but other hand-crafted features such as HOG can be used to train SVM model.\n"
   ]
  },
  {
   "cell_type": "markdown",
   "metadata": {},
   "source": [
    "### Problem 2 \n",
    "For training the SVM model, we build a similar function that we used in Part1 with some modifications. We need randomize the data and corresponding labels. In addition, the train and test labels are based on One-Hot encoding format and we need to take the index of the largest element. "
   ]
  },
  {
   "cell_type": "code",
   "execution_count": null,
   "metadata": {},
   "outputs": [],
   "source": [
    "from sklearn.metrics import accuracy_score\n",
    "from sklearn.svm import LinearSVC\n",
    "\n",
    "#Code here\n",
    "def train_and_validate(NUM_SAMPLES):\n",
    "    ...\n",
    "     \n",
    "\n",
    "    \n",
    "    return acc\n",
    "\n",
    "#Example\n",
    "TRAINING_SIZES = [1000, 2000]\n",
    "\n",
    "for size in TRAINING_SIZES:\n",
    "    score = train_and_validate(size)\n",
    "    print(\"Samples:\", size, \"---> Score:\", score)"
   ]
  },
  {
   "cell_type": "markdown",
   "metadata": {},
   "source": [
    "### Problem 3\n",
    "\n",
    "Now, we want to train and compare SVM model with the MLP model with two hidden-layers that we defined before. You should use varying number of training samples including 200, 500, 1000 ,5000, 8000 and 10000 images. At the end, we want to draw two acuracies (MLP accuracy and SVM accuracy) vs number of training samples in one SINGLE plot to have a better understanding of our models performance. With a increase in the number of training samples, the performance gap between two models will be more visible. "
   ]
  },
  {
   "cell_type": "code",
   "execution_count": null,
   "metadata": {},
   "outputs": [],
   "source": [
    "TRAINING_SIZES = [200, 500, 1000, 5000, 8000, 10000]\n",
    "\n",
    "#Code here\n"
   ]
  },
  {
   "cell_type": "code",
   "execution_count": null,
   "metadata": {},
   "outputs": [],
   "source": []
  }
 ],
 "metadata": {
  "anaconda-cloud": {},
  "kernelspec": {
   "display_name": "Python 2",
   "language": "python",
   "name": "python2"
  },
  "language_info": {
   "codemirror_mode": {
    "name": "ipython",
    "version": 2
   },
   "file_extension": ".py",
   "mimetype": "text/x-python",
   "name": "python",
   "nbconvert_exporter": "python",
   "pygments_lexer": "ipython2",
   "version": "2.7.13"
  }
 },
 "nbformat": 4,
 "nbformat_minor": 1
}
